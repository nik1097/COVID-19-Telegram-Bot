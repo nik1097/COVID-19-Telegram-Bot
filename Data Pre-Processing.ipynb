{
 "cells": [
  {
   "cell_type": "markdown",
   "metadata": {},
   "source": [
    "# Python Notebook to retrieve and pre-process the data\n",
    "\n",
    "- We use the data available from the [John Hopkins University repository](https://github.com/CSSEGISandData/COVID-19) for this project.\n",
    "- The data is appended daily into existing the dataset to keep the values updated in the reports."
   ]
  },
  {
   "cell_type": "code",
   "execution_count": 1,
   "metadata": {},
   "outputs": [],
   "source": [
    "import pandas as pd\n",
    "import datetime\n",
    "from datetime import date\n",
    "import kaggle"
   ]
  },
  {
   "cell_type": "markdown",
   "metadata": {},
   "source": [
    "First a check is done to see if the cleaned data is directly available at the Kaggle source point"
   ]
  },
  {
   "cell_type": "code",
   "execution_count": 2,
   "metadata": {},
   "outputs": [
    {
     "name": "stderr",
     "output_type": "stream",
     "text": [
      "usage: kaggle [-h] [-v] {competitions,c,datasets,d,kernels,k,config} ...\n",
      "kaggle: error: unrecognized arguments: #Checking if the JKaggle source point has the latest data\n"
     ]
    }
   ],
   "source": [
    "!kaggle datasets files sudalairajkumar/novel-corona-virus-2019-dataset #Checking if the JKaggle source point has the latest data\n",
    "#!kaggle datasets download sudalairajkumar/novel-corona-virus-2019-dataset -f covid_19_data.csv --force"
   ]
  },
  {
   "cell_type": "markdown",
   "metadata": {},
   "source": [
    "If the data is unavailable at the source point we probe further to download the data directly from John Hopkins Git repositiory"
   ]
  },
  {
   "cell_type": "code",
   "execution_count": 3,
   "metadata": {},
   "outputs": [],
   "source": [
    "current = date.today()\n",
    "today = current - datetime.timedelta(days=1) #Retreivng the date for the process\n",
    "today = today.strftime(\"%m/%d/%Y\")\n",
    "url_date = today.replace('/','-') "
   ]
  },
  {
   "cell_type": "code",
   "execution_count": 4,
   "metadata": {},
   "outputs": [],
   "source": [
    "url = 'https://raw.githubusercontent.com/CSSEGISandData/COVID-19/master/csse_covid_19_data/csse_covid_19_daily_reports/'+url_date+'.csv'\n",
    "#Append the date to the above URL in order to obtain the raw file path"
   ]
  },
  {
   "cell_type": "code",
   "execution_count": 5,
   "metadata": {},
   "outputs": [],
   "source": [
    "new_corona = pd.read_csv(url) #Initialise it to a Dataframe\n",
    "#The Dataframe now contains the values of various fields for today's date"
   ]
  },
  {
   "cell_type": "markdown",
   "metadata": {},
   "source": [
    "## Data Cleaning"
   ]
  },
  {
   "cell_type": "code",
   "execution_count": 6,
   "metadata": {},
   "outputs": [],
   "source": [
    "new_corona['Last_Update'] = pd.to_datetime(new_corona['Last_Update'])\n",
    "new_corona['ObservationDate'] = new_corona['Last_Update'].dt.strftime('%m/%d/%Y')\n",
    "new_corona = new_corona[['ObservationDate','Province_State', 'Country_Region','Last_Update', 'Confirmed', 'Deaths', 'Recovered']]\n",
    "new_corona = new_corona.rename(columns = {'Country_Region':'Country/Region','Province_State':'Province/State','Last_Update':'Last Update'})"
   ]
  },
  {
   "cell_type": "code",
   "execution_count": 7,
   "metadata": {},
   "outputs": [],
   "source": [
    "corona = pd.read_csv('covid_19_data.csv', index_col=0) #open the old Dataframe"
   ]
  },
  {
   "cell_type": "code",
   "execution_count": 8,
   "metadata": {},
   "outputs": [],
   "source": [
    "corona = corona.append(new_corona) #Append the new latest values into the Dataframe"
   ]
  },
  {
   "cell_type": "code",
   "execution_count": 9,
   "metadata": {},
   "outputs": [],
   "source": [
    "corona['ObservationDate'] = corona['ObservationDate'].str.replace('05/15/2020','05/14/2020') #Manipulate the dates to correct the error"
   ]
  },
  {
   "cell_type": "code",
   "execution_count": 10,
   "metadata": {},
   "outputs": [],
   "source": [
    "corona.to_csv('covid_19_data.csv') #Savee it to a dataframe"
   ]
  },
  {
   "cell_type": "code",
   "execution_count": null,
   "metadata": {},
   "outputs": [],
   "source": []
  }
 ],
 "metadata": {
  "kernelspec": {
   "display_name": "Python 3",
   "language": "python",
   "name": "python3"
  },
  "language_info": {
   "codemirror_mode": {
    "name": "ipython",
    "version": 3
   },
   "file_extension": ".py",
   "mimetype": "text/x-python",
   "name": "python",
   "nbconvert_exporter": "python",
   "pygments_lexer": "ipython3",
   "version": "3.7.4"
  }
 },
 "nbformat": 4,
 "nbformat_minor": 2
}
