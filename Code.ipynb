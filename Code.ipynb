{
 "cells": [
  {
   "cell_type": "markdown",
   "metadata": {},
   "source": [
    "# COVID-19 Report Generation using Telegram Bot "
   ]
  },
  {
   "cell_type": "markdown",
   "metadata": {},
   "source": [
    "- This bot provides you statistics on the COVID-19 Virus Count. It generates a country wise report, based on the country of your choice. \n",
    "\n",
    "- It also supports a statewise selection for the countries of USA, China and Australia.\n",
    "\n",
    "- The generated report contains statistics and graphical representations which provides a quick analysis of COVID-19 status of your state/country.\n",
    "\n",
    "- The data is updated daily from the [John Hopkins COVID-19 repository](https://github.com/CSSEGISandData/COVID-19)."
   ]
  },
  {
   "cell_type": "code",
   "execution_count": 1,
   "metadata": {},
   "outputs": [],
   "source": [
    "import pandas as pd\n",
    "import datetime\n",
    "from datetime import date\n",
    "import matplotlib.pyplot as plt\n",
    "import re\n",
    "import numpy as np\n",
    "import kaggle\n",
    "import wikipedia\n",
    "import numpy as np"
   ]
  },
  {
   "cell_type": "code",
   "execution_count": 2,
   "metadata": {},
   "outputs": [],
   "source": [
    "current = date.today() \n",
    "today = current - datetime.timedelta(days=1) #obtaining the date for generating the report"
   ]
  },
  {
   "cell_type": "code",
   "execution_count": 3,
   "metadata": {},
   "outputs": [],
   "source": [
    "today = today.strftime(\"%m/%d/%Y\") #type casting the date to a string"
   ]
  },
  {
   "cell_type": "code",
   "execution_count": 4,
   "metadata": {},
   "outputs": [],
   "source": [
    "corona = pd.read_csv('new_covid_19_data.csv', index_col=0)  #reading the dataset\n",
    "corona['Country/Region'] = corona['Country/Region'].str.replace('US','USA') #replacing the name US with USA  "
   ]
  },
  {
   "cell_type": "code",
   "execution_count": 5,
   "metadata": {},
   "outputs": [],
   "source": [
    "today = corona[corona['ObservationDate'] == today] #retrieving a subset of the dataset to this particular day"
   ]
  },
  {
   "cell_type": "code",
   "execution_count": 6,
   "metadata": {},
   "outputs": [],
   "source": [
    "countries = list(set(list(today['Country/Region'].str.lower()))) #obtaining a list of countries"
   ]
  },
  {
   "cell_type": "code",
   "execution_count": 7,
   "metadata": {},
   "outputs": [],
   "source": [
    "pd.options.mode.chained_assignment = None #for ignoring the set with copy warning"
   ]
  },
  {
   "cell_type": "markdown",
   "metadata": {},
   "source": [
    "## Generate Report Function\n",
    "\n",
    "- This function takes in 3 parameters message, column type and the date. The column type parameter is used to identify whether it's a state or a country.\n",
    "- It returns the calculated statistics and saves a pdf file which will contain the report for the country or state.\n",
    "- The generated pdf report contains: \n",
    "    - Numerical statistics \n",
    "    - Line Graph representing the growth of Confirmed cases.\n",
    "    - Bar Graph representing the growth of Daily Cases.\n",
    "    - A Pie Graph containing the status of the Confimred Cases."
   ]
  },
  {
   "cell_type": "code",
   "execution_count": 8,
   "metadata": {},
   "outputs": [],
   "source": [
    "def generate_report(msg, col_type, today):\n",
    "    value = today[today[col_type].str.lower().str.contains(msg, na=False)]\n",
    "    value['Active'] = value['Confirmed'] - (value['Recovered'] + value['Deaths'])\n",
    "    recovered_percent = ((value['Recovered'].sum())/ (value['Confirmed'].sum() + value['Deaths'].sum()))*100\n",
    "    \n",
    "    pie_df = pd.DataFrame()\n",
    "    pie_df.insert(0,'Metrics',value = ['Active','Deaths','Recovered'], allow_duplicates=False)\n",
    "    pie_df.insert(1,'COVID 19 Metrics',value = [value['Active'].sum(),value['Deaths'].sum(),value['Recovered'].sum()], allow_duplicates=False)\n",
    "    pie_df = pie_df.set_index('Metrics')\n",
    "    \n",
    "\n",
    "    temp_df = corona[corona[col_type].str.lower().str.contains(msg, na=False)]\n",
    "    test = pd.DataFrame(temp_df.groupby(['ObservationDate'])['Confirmed'].sum()).reset_index()\n",
    "    recovered = pd.DataFrame(temp_df.groupby(['ObservationDate'])['Recovered'].sum()).reset_index()\n",
    "    deaths = pd.DataFrame(temp_df.groupby(['ObservationDate'])['Deaths'].sum()).reset_index()\n",
    "    \n",
    "    test['Cleaned_Confirmed'] = clean_values(test['Confirmed'])\n",
    "    recovered['Cleaned_Recovered'] = clean_values(recovered['Recovered'])\n",
    "    deaths['Cleaned_Deaths'] = clean_values(deaths['Deaths'])\n",
    "    \n",
    "\n",
    "    test['Active_Cases'] = test['Cleaned_Confirmed'] - (recovered['Cleaned_Recovered'] + deaths['Cleaned_Deaths'])\n",
    "    test['Daily_Cases'] = test['Cleaned_Confirmed'].diff()\n",
    "    \n",
    "    daily = pd.DataFrame()\n",
    "    daily['ObservationDate'] = test['ObservationDate'].copy()\n",
    "    daily['Daily_Cases'] = test['Daily_Cases'].copy()\n",
    "    daily = daily[daily['Daily_Cases']>0]\n",
    "    \n",
    "    test['pct_change'] = test['Cleaned_Confirmed'].pct_change()\n",
    "    growth_percent = test['pct_change'].iloc[-1]*100\n",
    "    change = growth_percent - test['pct_change'].iloc[-2]*100\n",
    "    \n",
    "    fig = plt.figure(figsize=(25,10))\n",
    "    ax1 = fig.add_subplot(222)\n",
    "    ax2 = fig.add_subplot(223)\n",
    "    ax3 = fig.add_subplot(224)\n",
    "    \n",
    "    textstr = \"Last Updated: \"+str(value.iloc[0]['Last Update'])+ \"\\n\" + \"Confirmed: \" +str(value['Confirmed'].sum())+ \"\\n\" + \"Deaths: \"+str(value['Deaths'].sum())+ \"\\n\" + \"Recovered: \"+str(value['Recovered'].sum())+\"\\nPercentage Recovered: \"+str(round(recovered_percent,2))+\"%\"+\"\\nDaily Growth Percentage of Spread: \"+str(round(growth_percent,2))+\"% (\"+str(round(change,2))+\"%)\"+\"\\nActive Cases: \"+str(value['Active'].sum())\n",
    "    heading =  msg.upper() + \" COVID 19 Report\"\n",
    "    \n",
    "    plt.text(0.15, 0.65, textstr, fontsize=18, transform=plt.gcf().transFigure, bbox=dict(facecolor='white', alpha=0.5))\n",
    "    plt.text(0.45, 0.93, heading,  transform=plt.gcf().transFigure, fontsize = 28)\n",
    "    \n",
    "    ax1 = test.plot(x=\"ObservationDate\", y=\"Active_Cases\",\n",
    "                    kind=\"line\", linestyle=\"-\", color=\"orange\",\n",
    "                    ax=ax1\n",
    "                    ) #Adds a line graph\n",
    "    ax2 = daily.plot(x=\"ObservationDate\", y=\"Daily_Cases\",\n",
    "                    kind=\"bar\", linestyle=\"-\",color=\"orange\",\n",
    "                    ax=ax2\n",
    "                    ) #Adds a bar graph\n",
    "    ax3 = pie_df.plot(y=\"COVID 19 Metrics\",\n",
    "                    kind=\"pie\",ax=ax3\n",
    "                    ) #Adds a pie graph\n",
    "    \n",
    "    dates = list(daily['ObservationDate'])\n",
    "    date_index = np.arange(0,len(dates),len(dates)/5)\n",
    "    formatted_dates = []\n",
    "    for i in date_index:\n",
    "        formatted_dates.append(dates[int(i)])\n",
    "    ax2.locator_params(nbins=5,axis='x')\n",
    "    ax2.set_xticklabels(formatted_dates, rotation=30)\n",
    "    ax2.set_title('COVID_19 Daily New Cases')\n",
    "    ax2.tick_params(axis=u'both', which=u'both',length=0)\n",
    "    for spine in ax2.spines.values():\n",
    "        spine.set_visible(False)\n",
    "    \n",
    "    ax1.set_title('COVID_19 Active Cases')\n",
    "    ax1.tick_params(axis=u'both', which=u'both',length=0)\n",
    "    for spine in ax1.spines.values():\n",
    "        spine.set_visible(False)\n",
    "    \n",
    "    ax3.set_title(msg.upper()+ ' COVID_19 Confirmed Cases Split',y=-0.03)\n",
    "    ax3.axis('off')\n",
    "    \n",
    "    fig.savefig(\"output.pdf\") #saves the file to a jpg\n",
    "    return value,recovered_percent,growth_percent,change"
   ]
  },
  {
   "cell_type": "code",
   "execution_count": 9,
   "metadata": {},
   "outputs": [],
   "source": [
    "def clean_values(confirmed):\n",
    "    values = list(confirmed)\n",
    "    for i in range(1,len(values)):\n",
    "        if values[i] < values[i-1]:\n",
    "            j=i\n",
    "            while values[j] < values[i-1]:\n",
    "                j+=1\n",
    "            values[i] = float(int((values[j] + values[i-1])/2))\n",
    "    return values"
   ]
  },
  {
   "cell_type": "markdown",
   "metadata": {},
   "source": [
    "## Creating the Bot and passing the values to the Bot"
   ]
  },
  {
   "cell_type": "code",
   "execution_count": null,
   "metadata": {},
   "outputs": [],
   "source": [
    "import telebot\n",
    "\n",
    "from telebot import apihelper\n",
    "\n",
    "token = '926588908:AAEdfDD1rwodygqbvoIIfUxM21BNsgMJ9ew' #Your BOT token\n",
    "bot = telebot.TeleBot(token)\n",
    "\n",
    "@bot.message_handler(commands=['start','help'])\n",
    "def start_message(message):\n",
    "    bot.send_message(message.chat.id, 'This bot provides you statistics on the COVID-19 virus count. Enter the name of the country, to view the result. Users in the US can now see Province/State wise statistic on the bot. All you have to do is enter the name of the state. Stay strong! Stay healthy! 🖖🏾')\n",
    "    \n",
    "@bot.message_handler(content_types=['text'])\n",
    "def send_text(message):\n",
    "    try:\n",
    "        msg = message.text.lower()\n",
    "        if [x for x in countries if re.search(msg, x)]:\n",
    "            col_type = 'Country/Region'\n",
    "            value,recovered,growth,change = generate_report(msg, 'Country/Region',today)\n",
    "        else:\n",
    "            col_type = 'Province/State'\n",
    "            value,recovered,growth,change = generate_report(msg, 'Province/State',today)\n",
    "        \n",
    "        #bot.send_message(message.chat.id, \"Link To Wikipedia Article:\\n\"+\"https://en.wikipedia.org/wiki/2020_coronavirus_pandemic_in_\"+str(value.iloc[0][col_type]))\n",
    "        bot.send_message(message.chat.id, \"Last Updated: *\"+str(value.iloc[0]['Last Update'])+ \"\\n\" + \"*Confirmed: *\" +str(value['Confirmed'].sum())+ \"\\n\" + \"*Deaths: *\"+str(value['Deaths'].sum())+ \"\\n\" + \"*Recovered: *\"+str(value['Recovered'].sum())+\"*\\nPercentage Recovered: *\"+str(round(recovered,2))+\"*%*\"+\"*\\nDaily Growth Percentage of Spread: *\"+str(round(growth,2))+\"*% (*\"+str(round(change,2))+\"*%)\"+\"\\nActive Cases: *\"+str(value['Active'].sum())+\"*\", parse_mode= 'Markdown')\n",
    "        bot.send_document(message.chat.id, data = open('C://Users/nikhi/Project/Corona/output.pdf', 'rb')) #returns the pdf report to the user\n",
    "        name = message.from_user.first_name\n",
    "        print(name)\n",
    "        print(msg)\n",
    "        \n",
    "    except IndexError:\n",
    "        \n",
    "        bot.send_message(message.chat.id, \"Statistics for the entered location is unavailable :(\") #If the state or Country is unavailable\n",
    "        \n",
    "bot.polling()            "
   ]
  }
 ],
 "metadata": {
  "kernelspec": {
   "display_name": "Python 3",
   "language": "python",
   "name": "python3"
  },
  "language_info": {
   "codemirror_mode": {
    "name": "ipython",
    "version": 3
   },
   "file_extension": ".py",
   "mimetype": "text/x-python",
   "name": "python",
   "nbconvert_exporter": "python",
   "pygments_lexer": "ipython3",
   "version": "3.7.4"
  }
 },
 "nbformat": 4,
 "nbformat_minor": 2
}
